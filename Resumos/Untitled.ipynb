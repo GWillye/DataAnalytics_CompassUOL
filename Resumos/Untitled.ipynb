{
 "cells": [
  {
   "cell_type": "markdown",
   "id": "2293d437",
   "metadata": {},
   "source": [
    "# Mascarar Python"
   ]
  },
  {
   "cell_type": "code",
   "execution_count": 1,
   "id": "392a5d7b",
   "metadata": {},
   "outputs": [
    {
     "data": {
      "text/plain": [
       "'\\nCriar novo script Python que implementa o algoritmo a seguir:\\n1 - Receber uma string via input\\n2 - Gerar o hash  da string por meio do algoritmo SHA-1\\n3 - Imprimir o hash em tela, utilizando o método hexdigest\\n4 - Retornar ao passo 1\\n'"
      ]
     },
     "execution_count": 1,
     "metadata": {},
     "output_type": "execute_result"
    }
   ],
   "source": [
    "'''\n",
    "Criar novo script Python que implementa o algoritmo a seguir:\n",
    "1 - Receber uma string via input\n",
    "2 - Gerar o hash  da string por meio do algoritmo SHA-1\n",
    "3 - Imprimir o hash em tela, utilizando o método hexdigest\n",
    "4 - Retornar ao passo 1\n",
    "''' "
   ]
  },
  {
   "cell_type": "code",
   "execution_count": 2,
   "id": "0a7c54db",
   "metadata": {},
   "outputs": [],
   "source": [
    "import hashlib"
   ]
  },
  {
   "cell_type": "code",
   "execution_count": null,
   "id": "23382612",
   "metadata": {},
   "outputs": [],
   "source": [
    "while(True):\n",
    "    \n",
    "sha1 = hashlib.sha1()\n",
    "sha1.update(string.encode('utf-8'))\n",
    "\n",
    "# Obtenha a hash em formato hexadecimal\n",
    "hash_hexadecimal = sha1.hexdigest()\n",
    "\n",
    "# Imprima a hash\n",
    "print(\"Hash SHA-1:\", hash_hexadecimal)\n"
   ]
  }
 ],
 "metadata": {
  "kernelspec": {
   "display_name": "Python 3 (ipykernel)",
   "language": "python",
   "name": "python3"
  },
  "language_info": {
   "codemirror_mode": {
    "name": "ipython",
    "version": 3
   },
   "file_extension": ".py",
   "mimetype": "text/x-python",
   "name": "python",
   "nbconvert_exporter": "python",
   "pygments_lexer": "ipython3",
   "version": "3.11.3"
  }
 },
 "nbformat": 4,
 "nbformat_minor": 5
}
