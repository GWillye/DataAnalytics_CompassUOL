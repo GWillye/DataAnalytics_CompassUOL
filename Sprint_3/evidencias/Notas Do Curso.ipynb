{
 "cells": [
  {
   "cell_type": "markdown",
   "id": "8fa86e41",
   "metadata": {},
   "source": [
    "### Desafios do curso de Python 3\n",
    "Aqui estão presentes os desafios feitos durante o andamento do curso de Python 3"
   ]
  },
  {
   "cell_type": "code",
   "execution_count": 3,
   "id": "d0768320",
   "metadata": {},
   "outputs": [
    {
     "name": "stdout",
     "output_type": "stream",
     "text": [
      "Total das despesas: 286.67\n",
      "Percentual das despesas no salário: 40.0% \n",
      "\n",
      "Percentual comprometido: 71.18491790925822\n"
     ]
    }
   ],
   "source": [
    "#Desafio 1 - Operadores Aritméticos\n",
    "'''Partindo do meu controle financeiro de gastar 20% do salário, e de devolver a Deus 20% do que ganho, fica da seguinte maneira:'''\n",
    "salario = 350 + 366.67\n",
    "dizimo = salario / 10 #10% deve ser devolvido ao SENHOR - Malaquias 3:10 (NVI)\n",
    "ofertas = salario / 10 #Oferta de gratidão a Deus por tudo que ele faz por mim - Salmos 50:23 (NTLH)\n",
    "despesas = salario / 5 + dizimo + ofertas #Os 20% ficam relacionados a: saúde, alimentação, transporte, etc\n",
    "print(\"Total das despesas: %.2f\" %despesas)\n",
    "print(\"Percentual das despesas no salário: {}% \\n\".format(despesas / salario * 100))\n",
    "\n",
    "# Dos valores propostos no vídeo\n",
    "salario_aula = 3450.45\n",
    "despesas_aula = 2456.20\n",
    "print(\"Percentual comprometido:\", despesas_aula / salario_aula * 100)\n"
   ]
  },
  {
   "cell_type": "code",
   "execution_count": 4,
   "id": "76acb998",
   "metadata": {},
   "outputs": [
    {
     "name": "stdout",
     "output_type": "stream",
     "text": [
      "TV 32 polegadas\n",
      "Sorvete\n"
     ]
    }
   ],
   "source": [
    "#Desafio 2 - Operadores Lógicos\n",
    "'''Deve testar configurações de tal forma que, se o usuário conseguiu um emprego na terça e na quinta, ele compra uma TV de 50 polegadas.\n",
    "Caso só consiga em um dos dias, compra uma TV de 32 polegadas. Se conseguir um emprego, também vai comprar sorvete.\n",
    "Se não conseguir emprego, ganha 'Saúde' '''\n",
    "\n",
    "ter = True\n",
    "qui = False\n",
    "\n",
    "if (ter == True or qui == True):\n",
    "    (print(\"TV 50 polegadas\") if (qui == True and ter == True) else print(\"TV 32 polegadas\"))\n",
    "    print(\"Sorvete\")\n",
    "else:\n",
    "    print(\"Saúde\")\n",
    "    \n"
   ]
  },
  {
   "cell_type": "code",
   "execution_count": 7,
   "id": "5965a37e",
   "metadata": {},
   "outputs": [
    {
     "name": "stdout",
     "output_type": "stream",
     "text": [
      "Nota C-\n"
     ]
    }
   ],
   "source": [
    "#Desafio 3 - If e Else\n",
    "\n",
    "nota = float(input())\n",
    "#Partindo do princípio que ele só passa para a próxima estrutura condicional caso essa não seja verdadeira, no primeiro caso eu garanto que o número é válido.\n",
    "#Sabendo que o número é válido, é só testar para identificar em quais dos quadrantes a nota se encaixa. Melhor caso: nota inválida. Pior caso: Nota entre 0 e 1.\n",
    "if nota > 10 or nota < 0:\n",
    "    print(\"Nota inválida\")\n",
    "elif nota > 9:\n",
    "    print(\"Nota A\")\n",
    "elif nota > 8:\n",
    "    print(\"Nota A-\")\n",
    "elif nota > 7:\n",
    "    print(\"Nota B\")\n",
    "elif nota > 6:\n",
    "    print(\"Nota B-\")\n",
    "elif nota > 5:\n",
    "    print(\"Nota C\")\n",
    "elif nota > 4:\n",
    "    print(\"Nota C-\")\n",
    "elif nota > 3:\n",
    "    print(\"Nota D\")\n",
    "elif nota > 2:\n",
    "    print(\"Nota D-\")\n",
    "elif nota > 1:\n",
    "    print(\"Nota E\")\n",
    "else:\n",
    "    print(\"Nota E-\")"
   ]
  },
  {
   "cell_type": "code",
   "execution_count": null,
   "id": "50bebebb",
   "metadata": {},
   "outputs": [],
   "source": []
  }
 ],
 "metadata": {
  "kernelspec": {
   "display_name": "Python 3",
   "language": "python",
   "name": "python3"
  },
  "language_info": {
   "codemirror_mode": {
    "name": "ipython",
    "version": 3
   },
   "file_extension": ".py",
   "mimetype": "text/x-python",
   "name": "python",
   "nbconvert_exporter": "python",
   "pygments_lexer": "ipython3",
   "version": "3.11.3"
  }
 },
 "nbformat": 4,
 "nbformat_minor": 5
}
