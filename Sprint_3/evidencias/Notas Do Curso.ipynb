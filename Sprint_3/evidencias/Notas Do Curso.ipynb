{
 "cells": [
  {
   "cell_type": "markdown",
   "id": "8fa86e41",
   "metadata": {},
   "source": [
    "### Desafios do curso de Python 3\n",
    "Aqui estão presentes os desafios feitos durante o andamento do curso de Python 3"
   ]
  },
  {
   "cell_type": "code",
   "execution_count": 3,
   "id": "d0768320",
   "metadata": {},
   "outputs": [
    {
     "name": "stdout",
     "output_type": "stream",
     "text": [
      "Total das despesas: 286.67\n",
      "Percentual das despesas no salário: 40.0% \n",
      "\n",
      "Percentual comprometido: 71.18491790925822\n"
     ]
    }
   ],
   "source": [
    "#Desafio 1 - Operadores Aritméticos\n",
    "'''Partindo do meu controle financeiro de gastar 20% do salário, e de devolver a Deus 20% do que ganho, fica da seguinte maneira:'''\n",
    "salario = 350 + 366.67\n",
    "dizimo = salario / 10 #10% deve ser devolvido ao SENHOR - Malaquias 3:10 (NVI)\n",
    "ofertas = salario / 10 #Oferta de gratidão a Deus por tudo que ele faz por mim - Salmos 50:23 (NTLH)\n",
    "despesas = salario / 5 + dizimo + ofertas #Os 20% ficam relacionados a: saúde, alimentação, transporte, etc\n",
    "print(\"Total das despesas: %.2f\" %despesas)\n",
    "print(\"Percentual das despesas no salário: {}% \\n\".format(despesas / salario * 100))\n",
    "\n",
    "# Dos valores propostos no vídeo\n",
    "salario_aula = 3450.45\n",
    "despesas_aula = 2456.20\n",
    "print(\"Percentual comprometido:\", despesas_aula / salario_aula * 100)\n"
   ]
  },
  {
   "cell_type": "code",
   "execution_count": 4,
   "id": "76acb998",
   "metadata": {},
   "outputs": [
    {
     "name": "stdout",
     "output_type": "stream",
     "text": [
      "TV 32 polegadas\n",
      "Sorvete\n"
     ]
    }
   ],
   "source": [
    "#Desafio 2 - Operadores Lógicos\n",
    "'''Deve testar configurações de tal forma que, se o usuário conseguiu um emprego na terça e na quinta, ele compra uma TV de 50 polegadas.\n",
    "Caso só consiga em um dos dias, compra uma TV de 32 polegadas. Se conseguir um emprego, também vai comprar sorvete.\n",
    "Se não conseguir emprego, ganha 'Saúde' '''\n",
    "\n",
    "ter = True\n",
    "qui = False\n",
    "\n",
    "if (ter == True or qui == True):\n",
    "    (print(\"TV 50 polegadas\") if (qui == True and ter == True) else print(\"TV 32 polegadas\"))\n",
    "    print(\"Sorvete\")\n",
    "else:\n",
    "    print(\"Saúde\")\n",
    "    \n"
   ]
  },
  {
   "cell_type": "code",
   "execution_count": 7,
   "id": "5965a37e",
   "metadata": {},
   "outputs": [
    {
     "name": "stdout",
     "output_type": "stream",
     "text": [
      "Nota C-\n"
     ]
    }
   ],
   "source": [
    "#Desafio 3 - If e Else\n",
    "\n",
    "nota = float(input())\n",
    "#Partindo do princípio que ele só passa para a próxima estrutura condicional caso essa não seja verdadeira, no primeiro caso eu garanto que o número é válido.\n",
    "#Sabendo que o número é válido, é só testar para identificar em quais dos quadrantes a nota se encaixa. Melhor caso: nota inválida. Pior caso: Nota entre 0 e 1.\n",
    "if nota > 10 or nota < 0:\n",
    "    print(\"Nota inválida\")\n",
    "elif nota > 9:\n",
    "    print(\"Nota A\")\n",
    "elif nota > 8:\n",
    "    print(\"Nota A-\")\n",
    "elif nota > 7:\n",
    "    print(\"Nota B\")\n",
    "elif nota > 6:\n",
    "    print(\"Nota B-\")\n",
    "elif nota > 5:\n",
    "    print(\"Nota C\")\n",
    "elif nota > 4:\n",
    "    print(\"Nota C-\")\n",
    "elif nota > 3:\n",
    "    print(\"Nota D\")\n",
    "elif nota > 2:\n",
    "    print(\"Nota D-\")\n",
    "elif nota > 1:\n",
    "    print(\"Nota E\")\n",
    "else:\n",
    "    print(\"Nota E-\")"
   ]
  },
  {
   "cell_type": "code",
   "execution_count": 2,
   "id": "677b0750",
   "metadata": {},
   "outputs": [],
   "source": [
    "def read_csv(file_name):\n",
    "    actor = []\n",
    "    total_gross = []\n",
    "    num_movies = []\n",
    "    avg_per_movie = []\n",
    "    movie = []\n",
    "    gross = []\n",
    "    \n",
    "    with open(file_name, 'r') as file:\n",
    "        lines = file.readlines()\n",
    "        for line in lines[1:]:\n",
    "            values = []\n",
    "            current_value = \"\"\n",
    "            in_quotes = False\n",
    "            \n",
    "            for char in line.strip():\n",
    "                if char == ',' and not in_quotes:\n",
    "                    values.append(current_value)\n",
    "                    current_value = \"\"\n",
    "                elif char == '\"':\n",
    "                    in_quotes = not in_quotes\n",
    "                else:\n",
    "                    current_value += char\n",
    "            \n",
    "            values.append(current_value)\n",
    "            \n",
    "            actor.append(values[0])\n",
    "            total_gross.append(values[1])\n",
    "            num_movies.append(values[2])\n",
    "            avg_per_movie.append(values[3])\n",
    "            movie.append(values[4])\n",
    "            gross.append(values[5])\n",
    "    \n",
    "    return actor, total_gross, num_movies, avg_per_movie, movie, gross\n",
    "\n",
    "file_name = 'actors.csv'\n",
    "actor, total_gross, num_movies, avg_per_movie, movie, gross = read_csv(file_name)\n"
   ]
  },
  {
   "cell_type": "code",
   "execution_count": 3,
   "id": "80d9e238",
   "metadata": {},
   "outputs": [],
   "source": [
    "max_value = max(num_movies)\n",
    "max_index = num_movies.index(max_value)\n",
    "        \n",
    "resultado = f\"O ator com mais filmes é {actor[max_index]} com {num_movies[max_index]} filmes\"\n",
    "\n",
    "with open(\"etapa-1.txt\", \"w\") as file:\n",
    "    file.write(resultado)\n"
   ]
  },
  {
   "cell_type": "code",
   "execution_count": 55,
   "id": "b1b3d882",
   "metadata": {
    "scrolled": true
   },
   "outputs": [],
   "source": [
    "with open(\"etapa-2.txt\", \"w\") as file:\n",
    "    for item1, item2 in zip(actor, avg_per_movie):\n",
    "        file.write(f\"{item1} {item2}\\n\")"
   ]
  },
  {
   "cell_type": "code",
   "execution_count": 4,
   "id": "aec5f5e9",
   "metadata": {},
   "outputs": [],
   "source": [
    "avg_per_movie_float = [float(value) for value in avg_per_movie]\n",
    "maior_valor = max(avg_per_movie_float)\n",
    "\n",
    "id_maior = -1\n",
    "for i, value in enumerate(avg_per_movie_float):\n",
    "    if maior_valor == value:\n",
    "        id_maior = i\n",
    "\n",
    "resultado = f\"O ator/atriz com maior faturamento médio por filme é {actor[id_maior]} com {avg_per_movie[id_maior]}\"\n",
    "\n",
    "with open(\"etapa-3.txt\", \"w\") as file:\n",
    "    file.write(resultado)"
   ]
  },
  {
   "cell_type": "code",
   "execution_count": 5,
   "id": "b5a7334e",
   "metadata": {},
   "outputs": [],
   "source": [
    "frequencia = {}\n",
    "for nome in movie:\n",
    "    if nome in frequencia:\n",
    "        frequencia[nome] += 1\n",
    "    else:\n",
    "        frequencia[nome] = 1\n",
    "\n",
    "maior_frequencia = max(frequencia, key=frequencia.get)\n",
    "quantidade = frequencia[maior_frequencia]\n",
    "\n",
    "resultado = f\"O filme mais frequente é {maior_frequencia} e aparece {quantidade} vezes\"\n",
    "\n",
    "with open(\"etapa-4.txt\", \"w\") as file:\n",
    "    file.write(resultado)"
   ]
  },
  {
   "cell_type": "code",
   "execution_count": 6,
   "id": "9158a358",
   "metadata": {},
   "outputs": [],
   "source": [
    "gross_actor = list(zip(total_gross, actor))\n",
    "gross_actor.sort(reverse=True)\n",
    "resultado = [act for _, act in gross_actor]\n",
    "\n",
    "resultado_str = \"\\n\".join(resultado)\n",
    "\n",
    "with open(\"etapa-5.txt\", \"w\") as file:\n",
    "    file.write(resultado_str)\n"
   ]
  },
  {
   "cell_type": "code",
   "execution_count": null,
   "id": "a9a97996",
   "metadata": {},
   "outputs": [],
   "source": []
  }
 ],
 "metadata": {
  "kernelspec": {
   "display_name": "Python 3 (ipykernel)",
   "language": "python",
   "name": "python3"
  },
  "language_info": {
   "codemirror_mode": {
    "name": "ipython",
    "version": 3
   },
   "file_extension": ".py",
   "mimetype": "text/x-python",
   "name": "python",
   "nbconvert_exporter": "python",
   "pygments_lexer": "ipython3",
   "version": "3.11.3"
  }
 },
 "nbformat": 4,
 "nbformat_minor": 5
}
