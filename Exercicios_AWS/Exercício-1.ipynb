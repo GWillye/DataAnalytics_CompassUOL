{
 "cells": [
  {
   "cell_type": "code",
   "execution_count": 12,
   "id": "cbf3b23a",
   "metadata": {},
   "outputs": [],
   "source": [
    "import pandas as pd\n",
    "\n",
    "arquivo = \"actors.csv\"\n",
    "dados = pd.read_csv(arquivo)\n"
   ]
  },
  {
   "cell_type": "code",
   "execution_count": 13,
   "id": "02a66f54",
   "metadata": {},
   "outputs": [
    {
     "name": "stdout",
     "output_type": "stream",
     "text": [
      "O ator/atriz com mais filmes é Robert DeNiro com 79 filmes\n"
     ]
    }
   ],
   "source": [
    "# Indice do ator com mais filmes\n",
    "mais_filmes = dados['Number of Movies'].idxmax()\n",
    "\n",
    "# Imprime o ator com mais filmes (descoberto pelo índice acima) e o número de filmes que elejá produziu\n",
    "print(f\"O ator/atriz com mais filmes é {dados.at[mais_filmes, 'Actor']} com {dados['Number of Movies'].max()} filmes\")\n"
   ]
  },
  {
   "cell_type": "code",
   "execution_count": 14,
   "id": "c8a8329b",
   "metadata": {
    "scrolled": true
   },
   "outputs": [
    {
     "name": "stdout",
     "output_type": "stream",
     "text": [
      "A media de filmes produzidos por todos os atores é 37.88 por ator\n"
     ]
    }
   ],
   "source": [
    "print(f\"A media de filmes produzidos por todos os atores é {dados['Number of Movies'].mean()} por ator\")"
   ]
  },
  {
   "cell_type": "code",
   "execution_count": 15,
   "id": "abef35de",
   "metadata": {},
   "outputs": [
    {
     "name": "stdout",
     "output_type": "stream",
     "text": [
      "O ator/atriz com o maior faturamento médio é Anthony Daniels com 451.8.\n"
     ]
    }
   ],
   "source": [
    "mais_faturamento = dados['Average per Movie'].idxmax()\n",
    "maior_faturamento = dados['Average per Movie'].max()\n",
    "\n",
    "print(f\"O ator/atriz com o maior faturamento médio é {dados.at[mais_faturamento, 'Actor']} com {maior_faturamento}.\") "
   ]
  },
  {
   "cell_type": "code",
   "execution_count": 16,
   "id": "00a20c78",
   "metadata": {},
   "outputs": [
    {
     "name": "stdout",
     "output_type": "stream",
     "text": [
      "O filme mais frequente é The Avengers, e aparece 6 vezes.\n"
     ]
    }
   ],
   "source": [
    "contador = {}\n",
    "filme_max_frequencia = \"\"\n",
    "max_frequencia = 0\n",
    "\n",
    "for filme in dados['#1 Movie']:\n",
    "    if filme in contador:\n",
    "        contador[filme] += 1\n",
    "    else:\n",
    "        contador[filme] = 1\n",
    "    if contador[filme] > max_frequencia:\n",
    "        max_frequencia = contador[filme]\n",
    "        filme_max_frequencia = filme\n",
    "\n",
    "print(f\"O filme mais frequente é {filme_max_frequencia}, e aparece {max_frequencia} vezes.\")"
   ]
  }
 ],
 "metadata": {
  "kernelspec": {
   "display_name": "Python 3 (ipykernel)",
   "language": "python",
   "name": "python3"
  },
  "language_info": {
   "codemirror_mode": {
    "name": "ipython",
    "version": 3
   },
   "file_extension": ".py",
   "mimetype": "text/x-python",
   "name": "python",
   "nbconvert_exporter": "python",
   "pygments_lexer": "ipython3",
   "version": "3.11.3"
  }
 },
 "nbformat": 4,
 "nbformat_minor": 5
}
