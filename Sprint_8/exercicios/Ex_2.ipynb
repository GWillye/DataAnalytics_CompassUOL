{
 "cells": [
  {
   "cell_type": "code",
   "execution_count": 3,
   "id": "f670b329",
   "metadata": {},
   "outputs": [
    {
     "name": "stdout",
     "output_type": "stream",
     "text": [
      "Collecting names\n",
      "  Downloading names-0.3.0.tar.gz (789 kB)\n",
      "\u001b[2K     \u001b[38;2;114;156;31m━━━━━━━━━━━━━━━━━━━━━━━━━━━━━━━━━━━━━\u001b[0m \u001b[32m789.1/789.1 kB\u001b[0m \u001b[31m434.8 kB/s\u001b[0m eta \u001b[36m0:00:00\u001b[0m[36m0:00:01\u001b[0mm eta \u001b[36m0:00:01\u001b[0m\n",
      "\u001b[?25h  Preparing metadata (setup.py) ... \u001b[?25ldone\n",
      "\u001b[?25hBuilding wheels for collected packages: names\n",
      "  Building wheel for names (setup.py) ... \u001b[?25ldone\n",
      "\u001b[?25h  Created wheel for names: filename=names-0.3.0-py3-none-any.whl size=803681 sha256=390ebfdf6bbbea859bbe4b9b5a1e91e1d5bd480e3096ed463d9b162727f7f44d\n",
      "  Stored in directory: /home/gwillye/.cache/pip/wheels/8d/db/fc/50ec19a89a8dcbbd158a4aae44123cb525cda1f07dae287197\n",
      "Successfully built names\n",
      "Installing collected packages: names\n",
      "Successfully installed names-0.3.0\n",
      "Note: you may need to restart the kernel to use updated packages.\n"
     ]
    }
   ],
   "source": [
    "pip install names"
   ]
  },
  {
   "cell_type": "code",
   "execution_count": 7,
   "id": "4cf56aea",
   "metadata": {},
   "outputs": [
    {
     "name": "stdout",
     "output_type": "stream",
     "text": [
      "Gerando 10000000 nomes aleatórios\n",
      "Concluído\n"
     ]
    }
   ],
   "source": [
    "import random\n",
    "import names\n",
    "import os\n",
    "import time\n",
    "\n",
    "random.seed(40)\n",
    "\n",
    "qtd_nomes_unicos = 3000\n",
    "qtd_nomes_aleatorios = 10000000\n",
    "\n",
    "aux=[]\n",
    "\n",
    "for i in range(0, qtd_nomes_unicos):\n",
    "\n",
    "    aux.append(names.get_full_name())\n",
    "\n",
    "print(\"Gerando {} nomes aleatórios\".format(qtd_nomes_aleatorios))\n",
    "\n",
    "dados=[]\n",
    "\n",
    "for i in range(0,qtd_nomes_aleatorios):\n",
    "\n",
    "    dados.append(random.choice(aux))\n",
    "\n",
    "with open(\"nomes_aleatorios.txt\", \"w\") as arquivo:\n",
    "    for nome in dados:\n",
    "        arquivo.write(nome + \"\\n\")\n",
    "\n",
    "print(\"Concluído\")"
   ]
  }
 ],
 "metadata": {
  "kernelspec": {
   "display_name": "Python 3 (ipykernel)",
   "language": "python",
   "name": "python3"
  },
  "language_info": {
   "codemirror_mode": {
    "name": "ipython",
    "version": 3
   },
   "file_extension": ".py",
   "mimetype": "text/x-python",
   "name": "python",
   "nbconvert_exporter": "python",
   "pygments_lexer": "ipython3",
   "version": "3.11.3"
  }
 },
 "nbformat": 4,
 "nbformat_minor": 5
}
